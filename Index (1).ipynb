{
 "cells": [
  {
   "cell_type": "code",
   "execution_count": 5,
   "metadata": {
    "scrolled": true
   },
   "outputs": [
    {
     "name": "stdout",
     "output_type": "stream",
     "text": [
      "True\n",
      "-3.0 -1.0 3.0\n",
      "True\n",
      "-1.0 -1.0 1.0\n",
      "True\n",
      "(-0.2500000000000001-1.984313483298443j) (-0.2499999999999999+1.984313483298443j) (4-4.440892098500626e-16j)\n",
      "True\n",
      "-10000000000.0 -3e-10 3.0\n",
      "True\n",
      "4e-10 10000000000.0 4.0\n"
     ]
    }
   ],
   "source": [
    "def solve_quad(b, c):\n",
    "    if (b ** 2 - 4 * c) > 0:\n",
    "        x1 = (-b - (b ** 2 - 4 * c) ** 0.5) / 2\n",
    "        x2 = (-b + (b ** 2 - 4 * c) ** 0.5) / 2\n",
    "        if x2 == 0:\n",
    "            x2 = (c / x1)\n",
    "        elif x1 == 0:\n",
    "            x1 = (c / x2)\n",
    "        else:   \n",
    "            x1 = (-b - (b ** 2 - 4 * c) ** 0.5) / 2\n",
    "            x2 = (-b + (b ** 2 - 4 * c) ** 0.5) / 2    \n",
    "    else:\n",
    "        x1 = (-b - (b ** 2 - 4 * c) ** 0.5) / 2\n",
    "        x2 = (-b + (b ** 2 - 4 * c) ** 0.5) / 2\n",
    "    return x1, x2 \n",
    "\n",
    "\n",
    "from numpy import allclose\n",
    "\n",
    "variants = [{'b': 4.0, 'c': 3.0},\n",
    "            {'b': 2.0, 'c': 1.0},\n",
    "            {'b': 0.5, 'c': 4.0},\n",
    "            {'b': 1e10, 'c': 3.0},\n",
    "            {'b': -1e10, 'c': 4.0},]\n",
    "\n",
    "for var in variants:\n",
    "    x1, x2 = solve_quad(**var)\n",
    "    print(allclose(x1 * x2, var['c']))\n",
    "    print(x1, x2, x1 * x2)\n"
   ]
  },
  {
   "cell_type": "code",
   "execution_count": null,
   "metadata": {},
   "outputs": [],
   "source": []
  }
 ],
 "metadata": {
  "kernelspec": {
   "display_name": "Python 3",
   "language": "python",
   "name": "python3"
  },
  "language_info": {
   "codemirror_mode": {
    "name": "ipython",
    "version": 3
   },
   "file_extension": ".py",
   "mimetype": "text/x-python",
   "name": "python",
   "nbconvert_exporter": "python",
   "pygments_lexer": "ipython3",
   "version": "3.6.7"
  }
 },
 "nbformat": 4,
 "nbformat_minor": 2
}

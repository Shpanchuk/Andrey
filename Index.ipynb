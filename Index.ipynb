{
 "cells": [
  {
   "cell_type": "code",
   "execution_count": 12,
   "metadata": {},
   "outputs": [],
   "source": [
    "# 5 or 3\n",
    "def summa(N):\n",
    "    sum = 0\n",
    "    for i in range(N + 1):\n",
    "        if ((i % 5) == 0) or ((i % 3) == 0):\n",
    "            sum = sum + i\n",
    "    return (sum)\n"
   ]
  },
  {
   "cell_type": "code",
   "execution_count": 13,
   "metadata": {
    "scrolled": true
   },
   "outputs": [
    {
     "data": {
      "text/plain": [
       "33"
      ]
     },
     "execution_count": 13,
     "metadata": {},
     "output_type": "execute_result"
    }
   ],
   "source": [
    "summa(10)\n"
   ]
  },
  {
   "cell_type": "code",
   "execution_count": 14,
   "metadata": {
    "scrolled": true
   },
   "outputs": [
    {
     "data": {
      "text/plain": [
       "234168"
      ]
     },
     "execution_count": 14,
     "metadata": {},
     "output_type": "execute_result"
    }
   ],
   "source": [
    "summa(1000)"
   ]
  },
  {
   "cell_type": "code",
   "execution_count": 15,
   "metadata": {},
   "outputs": [],
   "source": [
    "# kvadratnoe yravnenie\n",
    "def kvad(b, c):\n",
    "    a1 = (-b + (b ** 2 - 4 * c) ** 0.5) / 2\n",
    "    a2 = (-b - (b ** 2 - 4 * c) ** 0.5) / 2\n",
    "    return a1, a2"
   ]
  },
  {
   "cell_type": "code",
   "execution_count": 16,
   "metadata": {},
   "outputs": [
    {
     "name": "stdout",
     "output_type": "stream",
     "text": [
      "(1.0, 1.0)\n"
     ]
    }
   ],
   "source": [
    "b = -2\n",
    "c = 1\n",
    "print(kvad(b, c))"
   ]
  },
  {
   "cell_type": "code",
   "execution_count": 17,
   "metadata": {},
   "outputs": [
    {
     "name": "stdout",
     "output_type": "stream",
     "text": [
      "(-0.030009005404053823, -99.96999099459595)\n"
     ]
    }
   ],
   "source": [
    "b = 100\n",
    "c = 3\n",
    "print(kvad(b, c))"
   ]
  },
  {
   "cell_type": "code",
   "execution_count": 19,
   "metadata": {},
   "outputs": [
    {
     "name": "stdout",
     "output_type": "stream",
     "text": [
      "((-2.4999999999999996+5.809475019311125j), (-2.5000000000000004-5.809475019311125j))\n"
     ]
    }
   ],
   "source": [
    "b = 5\n",
    "c = 40\n",
    "print(kvad(b, c))"
   ]
  },
  {
   "cell_type": "code",
   "execution_count": 20,
   "metadata": {},
   "outputs": [
    {
     "name": "stdout",
     "output_type": "stream",
     "text": [
      "(-1.398529491264556, -28.601470508735446)\n"
     ]
    }
   ],
   "source": [
    "b = 10^20\n",
    "c = 40\n",
    "print(kvad(b, c))"
   ]
  }
 ],
 "metadata": {
  "kernelspec": {
   "display_name": "Python 3",
   "language": "python",
   "name": "python3"
  },
  "language_info": {
   "codemirror_mode": {
    "name": "ipython",
    "version": 3
   },
   "file_extension": ".py",
   "mimetype": "text/x-python",
   "name": "python",
   "nbconvert_exporter": "python",
   "pygments_lexer": "ipython3",
   "version": "3.6.7"
  }
 },
 "nbformat": 4,
 "nbformat_minor": 2
}

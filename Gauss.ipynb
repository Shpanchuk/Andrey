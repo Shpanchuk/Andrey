{
 "cells": [
  {
   "cell_type": "code",
   "execution_count": 1,
   "metadata": {},
   "outputs": [],
   "source": [
    "def SwapRows (A, B, row1, row2):\n",
    "    A[row1], A[row2] = A[row2], A[row1]\n",
    "    B[row1], B[row2] = B[row2], B[row1]\n",
    "\n",
    "    "
   ]
  },
  {
   "cell_type": "markdown",
   "metadata": {},
   "source": [
    "Перестановка строк местами"
   ]
  },
  {
   "cell_type": "code",
   "execution_count": 2,
   "metadata": {},
   "outputs": [],
   "source": [
    "def DivideRow (A, B, row, divider):\n",
    "    A[row] = [a / divider for a in A[row]]\n",
    "    B[row] /= divider"
   ]
  },
  {
   "cell_type": "markdown",
   "metadata": {},
   "source": [
    "Деление строки на число"
   ]
  },
  {
   "cell_type": "code",
   "execution_count": 3,
   "metadata": {},
   "outputs": [],
   "source": [
    "def CombineRows (A, B, row, source_row, weight):\n",
    "    A[row] = [(a + k * weight) for a,k in zip(A[row], A[source_row])]\n",
    "    B[row] += B[source_row] * weight"
   ]
  },
  {
   "cell_type": "markdown",
   "metadata": {},
   "source": [
    "Сложение строки системы с другой строкой умноженной на число"
   ]
  },
  {
   "cell_type": "code",
   "execution_count": 19,
   "metadata": {},
   "outputs": [],
   "source": [
    "def Gauss (A, B):\n",
    " \n",
    "    column = 0\n",
    "    while(column < len(B)):\n",
    "   \n",
    "        #Ищем максимальный по модулю элемент в {0}-м столбце\n",
    "        current_row = None\n",
    "        for r in range(column, len(A)):\n",
    "            if current_row is None or abs(A[r][column]) > abs(A[current_row][column]):\n",
    "                current_row = r\n",
    "        if current_row is None:\n",
    "            print (\"решений нет\")\n",
    "            return None\n",
    "        \n",
    "   \n",
    "        if current_row != column:\n",
    "           #Переставляем строку с найденным элементом повыше:\n",
    "            SwapRows (A, B, current_row, column)\n",
    "           \n",
    " \n",
    "        #Нормализуем строку с найденным элементом\n",
    "        DivideRow (A, B, column, A[column][column])\n",
    "        \n",
    "       \n",
    "        #Обрабатываем нижележащие строки:\n",
    "        for r in range(column+1, len(A)):\n",
    "            CombineRows(A, B, r, column, -A[r][column])\n",
    "       \n",
    "       \n",
    "        column += 1\n",
    "       \n",
    "    #Матрица приведена к треугольному виду, считаем решение\n",
    "    X = [0 for b in B]\n",
    "    for i in range(len(B)-1, -1, -1):\n",
    "        X[i] = B[i] - sum(x*a for x,a in zip(X[(i+1):], A[i][(i+1):]))\n",
    "   \n",
    "    \n",
    "    print( \"\\n\".join(\"X{0} =\\t{1:10.2f}\".format(i+1,x) for i,x in enumerate(X)) )\n",
    "   \n",
    "    return "
   ]
  },
  {
   "cell_type": "code",
   "execution_count": 20,
   "metadata": {},
   "outputs": [
    {
     "name": "stdout",
     "output_type": "stream",
     "text": [
      "Решаем:\n",
      "X1 =\t    -93.06\n",
      "X2 =\t     37.73\n",
      "X3 =\t     50.35\n",
      "X4 =\t    -53.80\n",
      "X5 =\t    -16.47\n",
      "X6 =\t     74.92\n",
      "X7 =\t    -20.03\n",
      "X8 =\t     32.30\n",
      "X9 =\t     26.34\n",
      "X10 =\t    -32.80\n"
     ]
    }
   ],
   "source": [
    "print(\"Решаем:\")\n",
    "myA = [\n",
    "    [ 4, 10,  0,  0,  0,  0,  0,  0,  0,  0],\n",
    "    [ 7,  4,  10,  0,  0,  0,  0,  0,  0,  0],\n",
    "    [ 0, 2,  6,  7,  0,  0,  0,  0,  0,  0],\n",
    "    [ 0,  0,  6,  4,  2,  0,  0,  0,  0,  0],\n",
    "    [ 0,  0,  0,  6,  8,  6,  0,  0,  0,  0],\n",
    "    [ 0,  0,  0,  0,  1,  3, 10,  0,  0,  0,],\n",
    "    [ 0,  0,  0, 0,  0,  5,  4,  5,  0,  0,],\n",
    "    [ 0,  0,  0,  0,  0,  0, 10,  2,  5,  0],\n",
    "    [ 0,  0,  0,  0,  0,  0,  0,  2, 10, 10],\n",
    "    [ 0,  0,  0,  0,  0,  0,  0,  0, 10,  8]\n",
    "]\n",
    "myB = [\n",
    "    5,\n",
    "    3,\n",
    "    1,\n",
    "    54,\n",
    "    -5,\n",
    "    8,\n",
    "    456,\n",
    "    -4,\n",
    "    0,\n",
    "    1]\n",
    "       \n",
    "Gauss (myA, myB)\n"
   ]
  },
  {
   "cell_type": "code",
   "execution_count": 21,
   "metadata": {},
   "outputs": [
    {
     "name": "stdout",
     "output_type": "stream",
     "text": [
      "Решаем:\n",
      "X1 =\t      2.00\n",
      "X2 =\t      4.00\n",
      "X3 =\t      4.00\n",
      "X4 =\t      1.00\n"
     ]
    }
   ],
   "source": [
    "print(\"Решаем:\")\n",
    "myA = [\n",
    "       [ 1.0, -2.0,  3.0,  -4.0],\n",
    "       [ 3.0,  3.0, -5.0,  -1.0],\n",
    "       [ 3.0,  0.0,  3.0, -10.0],\n",
    "       [-2.0,  1.0,  2.0,  -3.0]\n",
    "      ]\n",
    "myB = [\n",
    "     2.0,\n",
    "    -3.0,\n",
    "     8.0,\n",
    "     5.0\n",
    "      ]\n",
    "Gauss (myA, myB)"
   ]
  },
  {
   "cell_type": "code",
   "execution_count": null,
   "metadata": {},
   "outputs": [],
   "source": []
  }
 ],
 "metadata": {
  "kernelspec": {
   "display_name": "Python 3",
   "language": "python",
   "name": "python3"
  },
  "language_info": {
   "codemirror_mode": {
    "name": "ipython",
    "version": 3
   },
   "file_extension": ".py",
   "mimetype": "text/x-python",
   "name": "python",
   "nbconvert_exporter": "python",
   "pygments_lexer": "ipython3",
   "version": "3.6.7"
  }
 },
 "nbformat": 4,
 "nbformat_minor": 2
}

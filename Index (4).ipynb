{
 "cells": [
  {
   "cell_type": "markdown",
   "metadata": {},
   "source": [
    "Метод Монте-Карло"
   ]
  },
  {
   "cell_type": "code",
   "execution_count": 1,
   "metadata": {},
   "outputs": [],
   "source": [
    "import numpy as np\n",
    "import matplotlib.pyplot as plt\n",
    "from matplotlib import mlab"
   ]
  },
  {
   "cell_type": "code",
   "execution_count": 7,
   "metadata": {},
   "outputs": [],
   "source": [
    "def method(M1, M2, dM1, dM2, r, dr):\n",
    "    global F, dF, M11, M22, R\n",
    "    F = 6.67384 * 10**(-11) * M1 * M2 / r**2\n",
    "    dF = F * ((dM1/M1)**2 + (dM2/M2)**2 + (2*dr/r)**2)**0.5\n",
    "    M11 = np.random.normal(M1, dM1, size=1000000)\n",
    "    M22 = np.random.normal(M2, dM2, size=1000000)\n",
    "    R = np.random.normal(r, dr, size=1000000)\n",
    "    return \n"
   ]
  },
  {
   "cell_type": "code",
   "execution_count": 8,
   "metadata": {},
   "outputs": [
    {
     "name": "stderr",
     "output_type": "stream",
     "text": [
      "/srv/conda/lib/python3.6/site-packages/matplotlib/axes/_axes.py:6521: MatplotlibDeprecationWarning: \n",
      "The 'normed' kwarg was deprecated in Matplotlib 2.1 and will be removed in 3.1. Use 'density' instead.\n",
      "  alternative=\"'density'\", removal=\"3.1\")\n",
      "/srv/conda/lib/python3.6/site-packages/ipykernel_launcher.py:8: MatplotlibDeprecationWarning: scipy.stats.norm.pdf\n",
      "  \n"
     ]
    },
    {
     "data": {
      "image/png": "[encoded data removed]",
      "text/plain": [
       "<Figure size 432x288 with 1 Axes>"
      ]
     },
     "metadata": {
      "needs_background": "light"
     },
     "output_type": "display_data"
    }
   ],
   "source": [
    "method(400000, 300000, 1000, 500, 3.2, 0.01)\n",
    "F0 = []\n",
    "for i in range(1000000):\n",
    "    F0.append(6.67384 * 10**-11 * M11[i] * M22[i] / R[i]**2)\n",
    "x = np.linspace(F - 5 * dF, F + 5 * dF, 10000)\n",
    "plt.figure()\n",
    "plt.hist(F0, normed=True, bins=100)\n",
    "plt.plot(x, mlab.normpdf(x, F, dF), \"o\")\n",
    "plt.show()"
   ]
  },
  {
   "cell_type": "code",
   "execution_count": 12,
   "metadata": {},
   "outputs": [
    {
     "name": "stdout",
     "output_type": "stream",
     "text": [
      "F = 0.7820906249999999\n",
      "dF = 0.5553593043410237\n"
     ]
    }
   ],
   "source": [
    "method(400000, 300000, 20000, 100000, 3.2, 1)\n",
    "print(\"F =\", F)\n",
    "print(\"dF =\", dF)"
   ]
  },
  {
   "cell_type": "markdown",
   "metadata": {},
   "source": [
    "Из-за того что погрешность слишком большая, нормального распределения здесь не будет"
   ]
  }
 ],
 "metadata": {
  "kernelspec": {
   "display_name": "Python 3",
   "language": "python",
   "name": "python3"
  },
  "language_info": {
   "codemirror_mode": {
    "name": "ipython",
    "version": 3
   },
   "file_extension": ".py",
   "mimetype": "text/x-python",
   "name": "python",
   "nbconvert_exporter": "python",
   "pygments_lexer": "ipython3",
   "version": "3.6.7"
  }
 },
 "nbformat": 4,
 "nbformat_minor": 2
}
